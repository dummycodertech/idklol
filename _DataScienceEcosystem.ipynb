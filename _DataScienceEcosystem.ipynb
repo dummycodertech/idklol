{
 "cells": [
  {
   "cell_type": "markdown",
   "id": "3b4e9eef-e85f-446e-94cb-15153b76b049",
   "metadata": {},
   "source": [
    "#Data Science Tools and Ecosystem\n"
   ]
  },
  {
   "cell_type": "code",
   "execution_count": null,
   "id": "b22b1fc1-9d45-4814-bb78-f71ca4d222f3",
   "metadata": {},
   "outputs": [],
   "source": [
    "In this notebook, Data Science Tools and Ecosystem are summarized\n"
   ]
  },
  {
   "cell_type": "code",
   "execution_count": null,
   "id": "571f4300-ed5e-4b93-be1f-343eee7505dc",
   "metadata": {},
   "outputs": [],
   "source": [
    "Some of the popular languages that Data Scientists use are:\n",
    "1.python\n",
    "2.r\n",
    "3.java\n",
    "4.ruby\n"
   ]
  },
  {
   "cell_type": "code",
   "execution_count": 73,
   "id": "32b82cf3-681d-4399-bcd2-b791ebf7d4fb",
   "metadata": {},
   "outputs": [
    {
     "ename": "SyntaxError",
     "evalue": "invalid syntax (1878995457.py, line 1)",
     "output_type": "error",
     "traceback": [
      "\u001b[1;36m  Cell \u001b[1;32mIn[73], line 1\u001b[1;36m\u001b[0m\n\u001b[1;33m    **objective:**\u001b[0m\n\u001b[1;37m    ^\u001b[0m\n\u001b[1;31mSyntaxError\u001b[0m\u001b[1;31m:\u001b[0m invalid syntax\n"
     ]
    }
   ],
   "source": [
    "**objective:**\n",
    "#List popular languages for Data Science\n",
    "-libraries\n",
    "-expressions\n",
    "-languages\n",
    "-jupyter\n",
    "-git"
   ]
  },
  {
   "cell_type": "code",
   "execution_count": 55,
   "id": "21b378cf-4dec-4234-aee6-6a675bc585e8",
   "metadata": {},
   "outputs": [
    {
     "ename": "SyntaxError",
     "evalue": "invalid syntax (3597327779.py, line 1)",
     "output_type": "error",
     "traceback": [
      "\u001b[1;36m  Cell \u001b[1;32mIn[55], line 1\u001b[1;36m\u001b[0m\n\u001b[1;33m    |Data Science Tools|\u001b[0m\n\u001b[1;37m    ^\u001b[0m\n\u001b[1;31mSyntaxError\u001b[0m\u001b[1;31m:\u001b[0m invalid syntax\n"
     ]
    }
   ],
   "source": [
    "|Data Science Tools|\n",
    "--------------------\n",
    "|anaconda|\n",
    "-----------\n",
    "|jupyter notebook and lab|\n",
    " --------------------------\n",
    "|vs code|\n",
    " ------------"
   ]
  },
  {
   "cell_type": "code",
   "execution_count": 27,
   "id": "e50d5e1e-7bb7-4d36-9244-784dc6a963e1",
   "metadata": {},
   "outputs": [
    {
     "ename": "SyntaxError",
     "evalue": "invalid decimal literal (1437872293.py, line 2)",
     "output_type": "error",
     "traceback": [
      "\u001b[1;36m  Cell \u001b[1;32mIn[27], line 2\u001b[1;36m\u001b[0m\n\u001b[1;33m    1.numpy\u001b[0m\n\u001b[1;37m     ^\u001b[0m\n\u001b[1;31mSyntaxError\u001b[0m\u001b[1;31m:\u001b[0m invalid decimal literal\n"
     ]
    }
   ],
   "source": [
    "Some of the commonly used libraries used by Data Scientists include:\n",
    "1.numpy\n",
    "2.matplotlib\n",
    "3.scikit"
   ]
  },
  {
   "cell_type": "code",
   "execution_count": 29,
   "id": "62eefdea-6aaa-48ef-9e41-d38ce77c562d",
   "metadata": {},
   "outputs": [
    {
     "data": {
      "text/plain": [
       "6.888888888888889"
      ]
     },
     "execution_count": 29,
     "metadata": {},
     "output_type": "execute_result"
    }
   ],
   "source": [
    "###Below are a few examples of evaluating arithmetic expressions in Python\n",
    "1+1\n",
    "2%5\n",
    "8/9+6"
   ]
  },
  {
   "cell_type": "code",
   "execution_count": 31,
   "id": "7ec422e0-6ce3-45f0-a3b6-9d3351e382a4",
   "metadata": {},
   "outputs": [
    {
     "data": {
      "text/plain": [
       "17"
      ]
     },
     "execution_count": 31,
     "metadata": {},
     "output_type": "execute_result"
    }
   ],
   "source": [
    "#This a simple arithmetic expression to mutiply then add integers\n",
    "(3*4)+5"
   ]
  },
  {
   "cell_type": "code",
   "execution_count": 33,
   "id": "20c2a5f5-1150-4fed-8f67-9190f0d3f055",
   "metadata": {},
   "outputs": [
    {
     "name": "stdout",
     "output_type": "stream",
     "text": [
      "3.3333333333333335 <built-in function min>\n"
     ]
    }
   ],
   "source": [
    "#This will convert 200 minutes to hours by diving by 60\n",
    "print(200/60,min)"
   ]
  },
  {
   "cell_type": "code",
   "execution_count": null,
   "id": "ae926888-441d-4943-90fd-c8142f7b26f7",
   "metadata": {},
   "outputs": [],
   "source": [
    "##author\n",
    "yagas"
   ]
  },
  {
   "cell_type": "code",
   "execution_count": null,
   "id": "438c28c7-a56b-465e-8b35-bebeab7bc9e1",
   "metadata": {},
   "outputs": [],
   "source": []
  }
 ],
 "metadata": {
  "kernelspec": {
   "display_name": "Python 3 (ipykernel)",
   "language": "python",
   "name": "python3"
  },
  "language_info": {
   "codemirror_mode": {
    "name": "ipython",
    "version": 3
   },
   "file_extension": ".py",
   "mimetype": "text/x-python",
   "name": "python",
   "nbconvert_exporter": "python",
   "pygments_lexer": "ipython3",
   "version": "3.12.4"
  }
 },
 "nbformat": 4,
 "nbformat_minor": 5
}
